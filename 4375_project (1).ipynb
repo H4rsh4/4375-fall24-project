{
 "cells": [
  {
   "cell_type": "code",
   "execution_count": 36,
   "metadata": {
    "colab": {
     "base_uri": "https://localhost:8080/"
    },
    "id": "L0AgosA8uTFZ",
    "outputId": "c2efcf8c-7d85-48e8-edb3-3c73a3841c92"
   },
   "outputs": [
    {
     "name": "stdout",
     "output_type": "stream",
     "text": [
      "Requirement already satisfied: requests in /usr/local/lib/python3.10/dist-packages (2.32.3)\n",
      "Requirement already satisfied: charset-normalizer<4,>=2 in /usr/local/lib/python3.10/dist-packages (from requests) (3.4.0)\n",
      "Requirement already satisfied: idna<4,>=2.5 in /usr/local/lib/python3.10/dist-packages (from requests) (3.10)\n",
      "Requirement already satisfied: urllib3<3,>=1.21.1 in /usr/local/lib/python3.10/dist-packages (from requests) (2.2.3)\n",
      "Requirement already satisfied: certifi>=2017.4.17 in /usr/local/lib/python3.10/dist-packages (from requests) (2024.8.30)\n",
      "Requirement already satisfied: transformers in /usr/local/lib/python3.10/dist-packages (4.46.2)\n",
      "Requirement already satisfied: filelock in /usr/local/lib/python3.10/dist-packages (from transformers) (3.16.1)\n",
      "Requirement already satisfied: huggingface-hub<1.0,>=0.23.2 in /usr/local/lib/python3.10/dist-packages (from transformers) (0.26.2)\n",
      "Requirement already satisfied: numpy>=1.17 in /usr/local/lib/python3.10/dist-packages (from transformers) (1.26.4)\n",
      "Requirement already satisfied: packaging>=20.0 in /usr/local/lib/python3.10/dist-packages (from transformers) (24.2)\n",
      "Requirement already satisfied: pyyaml>=5.1 in /usr/local/lib/python3.10/dist-packages (from transformers) (6.0.2)\n",
      "Requirement already satisfied: regex!=2019.12.17 in /usr/local/lib/python3.10/dist-packages (from transformers) (2024.9.11)\n",
      "Requirement already satisfied: requests in /usr/local/lib/python3.10/dist-packages (from transformers) (2.32.3)\n",
      "Requirement already satisfied: safetensors>=0.4.1 in /usr/local/lib/python3.10/dist-packages (from transformers) (0.4.5)\n",
      "Requirement already satisfied: tokenizers<0.21,>=0.20 in /usr/local/lib/python3.10/dist-packages (from transformers) (0.20.3)\n",
      "Requirement already satisfied: tqdm>=4.27 in /usr/local/lib/python3.10/dist-packages (from transformers) (4.66.6)\n",
      "Requirement already satisfied: fsspec>=2023.5.0 in /usr/local/lib/python3.10/dist-packages (from huggingface-hub<1.0,>=0.23.2->transformers) (2024.10.0)\n",
      "Requirement already satisfied: typing-extensions>=3.7.4.3 in /usr/local/lib/python3.10/dist-packages (from huggingface-hub<1.0,>=0.23.2->transformers) (4.12.2)\n",
      "Requirement already satisfied: charset-normalizer<4,>=2 in /usr/local/lib/python3.10/dist-packages (from requests->transformers) (3.4.0)\n",
      "Requirement already satisfied: idna<4,>=2.5 in /usr/local/lib/python3.10/dist-packages (from requests->transformers) (3.10)\n",
      "Requirement already satisfied: urllib3<3,>=1.21.1 in /usr/local/lib/python3.10/dist-packages (from requests->transformers) (2.2.3)\n",
      "Requirement already satisfied: certifi>=2017.4.17 in /usr/local/lib/python3.10/dist-packages (from requests->transformers) (2024.8.30)\n"
     ]
    }
   ],
   "source": [
    "!pip install requests\n",
    "!pip install transformers"
   ]
  },
  {
   "cell_type": "code",
   "execution_count": 37,
   "metadata": {
    "colab": {
     "base_uri": "https://localhost:8080/"
    },
    "id": "PV2UFqmcvgDY",
    "outputId": "12b0d6db-53c7-4d15-8128-120105b51b05"
   },
   "outputs": [
    {
     "name": "stdout",
     "output_type": "stream",
     "text": [
      "Book downloaded and saved as wonderland.txt\n",
      "﻿The Project Gutenberg eBook of Alice in Wonderland\n",
      "    \n",
      "This ebook is for the use of anyone anywhere in the United States and\n",
      "most other parts of the world at no cost and with almost no restrictions\n",
      "whatsoever. You may copy it, give it away or re-use it under the terms\n",
      "of the Project Gutenberg License included with this ebook or online\n",
      "at www.gutenberg.org. If you are not located in the United States,\n",
      "you will have to check the laws of the country where you are located\n",
      "before using this eBook.\n",
      "\n"
     ]
    }
   ],
   "source": [
    "import requests\n",
    "\n",
    "url = 'https://gutenberg.org/cache/epub/35688/pg35688.txt'  # Replace <BOOK_ID> with the actual book ID from Gutenberg\n",
    "response = requests.get(url)\n",
    "\n",
    "file_name = \"wonderland.txt\"\n",
    "with open(file_name, 'w', encoding='utf-8') as file:\n",
    "    file.write(response.text)\n",
    "\n",
    "print(\"Book downloaded and saved as\", file_name)\n",
    "\n",
    "with open(file_name, 'r', encoding='utf-8') as file:\n",
    "    text = file.read()\n",
    "\n",
    "print(text[:500])"
   ]
  },
  {
   "cell_type": "code",
   "execution_count": 38,
   "metadata": {
    "colab": {
     "base_uri": "https://localhost:8080/"
    },
    "id": "rZ2aYjZ5wE5v",
    "outputId": "15659965-ed1d-4b40-de14-268945db16af"
   },
   "outputs": [
    {
     "name": "stdout",
     "output_type": "stream",
     "text": [
      "\n",
      "RED QUEEN\n",
      "\n",
      "It's time for you to answer now; open your mouth a _little_ wider when you\n",
      "speak, and always say, \"Your Majesty.\" I suppose you don't want to lose\n",
      "your name?\n",
      "\n",
      "\n",
      "ALICE\n",
      "\n",
      "No, indeed.\n",
      "\n",
      "\n",
      "RED QUEEN\n",
      "\n",
      "And yet I don't know, only think how convenient it would be if you could\n",
      "manage to go home without it! For instance, if the governess wanted to\n",
      "call you to your lessons, she would call out \"come here,\" and there she\n",
      "would have to leave off, because there wouldn't be any name for her to\n",
      "call, and of course you wouldn't have to go, you know.\n",
      "\n",
      "\n",
      "ALICE\n",
      "\n",
      "That would never do, I'm sure; the governess would never think of excusing\n",
      "me from lessons for that. If she couldn't remember my name, she'd call me\n",
      "\"Miss,\" as the servants do.\n",
      "\n",
      "\n",
      "RED QUEEN\n",
      "\n",
      "Well, if she said \"Miss,\" and didn't say anything more, of course you'd\n",
      "miss your lessons. I dare say you can't even read this book.\n",
      "\n",
      "\n",
      "ALICE\n",
      "\n",
      "It's all in some language I don't know. Why, it's a looking-glass book, of\n",
      "course! And if I hold it up to a glass, the words will all go the right\n",
      "way again.\n"
     ]
    }
   ],
   "source": [
    "print(text[10022:11066])"
   ]
  },
  {
   "cell_type": "code",
   "execution_count": 39,
   "metadata": {
    "colab": {
     "base_uri": "https://localhost:8080/"
    },
    "id": "7kDgBegFxxqj",
    "outputId": "e726b102-ee1f-4ed0-ce67-7440128579d9"
   },
   "outputs": [
    {
     "name": "stderr",
     "output_type": "stream",
     "text": [
      "No model was supplied, defaulted to sshleifer/distilbart-cnn-12-6 and revision a4f8f3e (https://huggingface.co/sshleifer/distilbart-cnn-12-6).\n",
      "Using a pipeline without specifying a model name and revision in production is not recommended.\n"
     ]
    },
    {
     "name": "stdout",
     "output_type": "stream",
     "text": [
      " Red Queen: \"Open your mouth a little wider when you speak, and always say, \"Your Majesty\" I suppose you don't want to lose your name? I don't know, only think how convenient it would be if you could go home without it! For instance, if the governess wanted to call you to your lessons, she would call out \"come here,\" and there she would have to leave off because there wouldn't be any name for her to call, and of course you wouldn't have to go .\n"
     ]
    }
   ],
   "source": [
    "from transformers import pipeline\n",
    "\n",
    "summarizer = pipeline(\"summarization\")\n",
    "\n",
    "part_to_summarize = text[10022:11066]\n",
    "\n",
    "summarized = summarizer(part_to_summarize)[0]['summary_text']\n",
    "\n",
    "print(summarized)"
   ]
  },
  {
   "cell_type": "code",
   "execution_count": null,
   "metadata": {},
   "outputs": [],
   "source": [
    "from summarizer import summarize\n",
    "import torch\n",
    "from transformers import BertTokenizer\n",
    "model = 'model.pth'\n",
    "model = torch.load(model)\n",
    "tokenizer = BertTokenizer.from_pretrained('bert-base-uncased')\n",
    "summary = summarize(model, tokenizer, part_to_summarize)"
   ]
  },
  {
   "cell_type": "code",
   "execution_count": null,
   "metadata": {
    "colab": {
     "base_uri": "https://localhost:8080/"
    },
    "id": "kfmWVEUAyNo_",
    "outputId": "43b6a3ef-63ce-4ea2-e07f-bfd1c8287b07"
   },
   "outputs": [
    {
     "name": "stdout",
     "output_type": "stream",
     "text": [
      "Requirement already satisfied: rouge-score in /usr/local/lib/python3.10/dist-packages (0.1.2)\n",
      "Requirement already satisfied: absl-py in /usr/local/lib/python3.10/dist-packages (from rouge-score) (1.4.0)\n",
      "Requirement already satisfied: nltk in /usr/local/lib/python3.10/dist-packages (from rouge-score) (3.9.1)\n",
      "Requirement already satisfied: numpy in /usr/local/lib/python3.10/dist-packages (from rouge-score) (1.26.4)\n",
      "Requirement already satisfied: six>=1.14.0 in /usr/local/lib/python3.10/dist-packages (from rouge-score) (1.16.0)\n",
      "Requirement already satisfied: click in /usr/local/lib/python3.10/dist-packages (from nltk->rouge-score) (8.1.7)\n",
      "Requirement already satisfied: joblib in /usr/local/lib/python3.10/dist-packages (from nltk->rouge-score) (1.4.2)\n",
      "Requirement already satisfied: regex>=2021.8.3 in /usr/local/lib/python3.10/dist-packages (from nltk->rouge-score) (2024.9.11)\n",
      "Requirement already satisfied: tqdm in /usr/local/lib/python3.10/dist-packages (from nltk->rouge-score) (4.66.6)\n"
     ]
    }
   ],
   "source": [
    "! pip install rouge-score"
   ]
  },
  {
   "cell_type": "code",
   "execution_count": 41,
   "metadata": {
    "colab": {
     "base_uri": "https://localhost:8080/"
    },
    "id": "71h09ds5wLal",
    "outputId": "9fb23762-f40b-44ef-a7d6-09089f651c98"
   },
   "outputs": [
    {
     "name": "stdout",
     "output_type": "stream",
     "text": [
      "ROUGE Scores: {'rouge1': Score(precision=1.0, recall=0.4225352112676056, fmeasure=0.5940594059405941), 'rouge2': Score(precision=0.9662921348314607, recall=0.4056603773584906, fmeasure=0.5714285714285715), 'rougeL': Score(precision=1.0, recall=0.4225352112676056, fmeasure=0.5940594059405941)}\n"
     ]
    }
   ],
   "source": [
    "from rouge_score import rouge_scorer\n",
    "\n",
    "scorer = rouge_scorer.RougeScorer(['rouge1', 'rouge2', 'rougeL'], use_stemmer=True)\n",
    "scores = scorer.score(part_to_summarize, summarized)\n",
    "\n",
    "print(f\"ROUGE Scores: {scores}\")"
   ]
  },
  {
   "cell_type": "code",
   "execution_count": 42,
   "metadata": {
    "colab": {
     "base_uri": "https://localhost:8080/"
    },
    "id": "I1Up7Qjb3bjz",
    "outputId": "0fbbebd1-8922-49e9-9dbe-fdfecba14d65"
   },
   "outputs": [
    {
     "name": "stdout",
     "output_type": "stream",
     "text": [
      "Summary:\n",
      "RED QUEEN\n",
      "\n",
      "And yet I don't know, only think how convenient it would be if you could\n",
      "manage to go home without it! For instance, if the governess wanted to\n",
      "call you to your lessons, she would call out \"come here,\" and there she\n",
      "would have to leave off, because there wouldn't be any name for her to\n",
      "call, and of course you wouldn't have to go, you know RED QUEEN\n",
      "\n",
      "Well, if she said \"Miss,\" and didn't say anything more, of course you'd\n",
      "miss your lessons\n"
     ]
    }
   ],
   "source": [
    "import re\n",
    "from collections import Counter\n",
    "\n",
    "# Function to preprocess the text\n",
    "def preprocess_text(text):\n",
    "    sentences = text.split('.')\n",
    "    sentences = [sentence.strip() for sentence in sentences if sentence.strip()]\n",
    "    words = [re.findall(r'\\w+', sentence.lower()) for sentence in sentences]\n",
    "    return sentences, words\n",
    "\n",
    "# Function to calculate word frequencies\n",
    "def calculate_word_frequencies(words):\n",
    "    all_words = [word for sentence in words for word in sentence]\n",
    "    stopwords = set([\"the\", \"is\", \"in\", \"and\", \"to\", \"a\", \"of\", \"it\", \"on\", \"for\", \"with\", \"as\", \"was\", \"at\"])  # Add more stopwords as needed\n",
    "    filtered_words = [word for word in all_words if word not in stopwords]\n",
    "    return Counter(filtered_words)\n",
    "\n",
    "# Function to score sentences\n",
    "def score_sentences(sentences, words, word_freq):\n",
    "    sentence_scores = {}\n",
    "    for i, sentence in enumerate(words):\n",
    "        sentence_score = sum(word_freq[word] for word in sentence if word in word_freq)\n",
    "        sentence_scores[i] = sentence_score\n",
    "    return sentence_scores\n",
    "\n",
    "# Function to generate a summary\n",
    "def generate_summary(sentences, sentence_scores, n=3):\n",
    "    # Get top N sentences based on scores\n",
    "    ranked_sentences = sorted(sentence_scores.keys(), key=lambda x: sentence_scores[x], reverse=True)[:n]\n",
    "    summary = [sentences[i] for i in sorted(ranked_sentences)]\n",
    "    return ' '.join(summary)\n",
    "\n",
    "# Preprocess the text\n",
    "sentences, words = preprocess_text(part_to_summarize)\n",
    "\n",
    "# Calculate word frequencies\n",
    "word_freq = calculate_word_frequencies(words)\n",
    "\n",
    "# Score sentences\n",
    "sentence_scores = score_sentences(sentences, words, word_freq)\n",
    "\n",
    "# Generate summary\n",
    "summary = generate_summary(sentences, sentence_scores, n=2)\n",
    "\n",
    "print(\"Summary:\")\n",
    "print(summary)"
   ]
  },
  {
   "cell_type": "code",
   "execution_count": 44,
   "metadata": {
    "colab": {
     "base_uri": "https://localhost:8080/"
    },
    "id": "6P1ks-JO3lKe",
    "outputId": "8596415e-a07c-41b0-eee2-7218d7dc96f7"
   },
   "outputs": [
    {
     "name": "stdout",
     "output_type": "stream",
     "text": [
      "ROUGE Scores: {'rouge1': Score(precision=1.0, recall=0.431924882629108, fmeasure=0.6032786885245902), 'rouge2': Score(precision=0.989010989010989, recall=0.42452830188679247, fmeasure=0.594059405940594), 'rougeL': Score(precision=1.0, recall=0.431924882629108, fmeasure=0.6032786885245902)}\n"
     ]
    }
   ],
   "source": [
    "from rouge_score import rouge_scorer\n",
    "\n",
    "scorer = rouge_scorer.RougeScorer(['rouge1', 'rouge2', 'rougeL'], use_stemmer=True)\n",
    "scores = scorer.score(part_to_summarize, summary)\n",
    "\n",
    "print(f\"ROUGE Scores: {scores}\")"
   ]
  }
 ],
 "metadata": {
  "colab": {
   "provenance": []
  },
  "kernelspec": {
   "display_name": ".venv",
   "language": "python",
   "name": "python3"
  },
  "language_info": {
   "name": "python",
   "version": "3.12.0"
  }
 },
 "nbformat": 4,
 "nbformat_minor": 0
}
